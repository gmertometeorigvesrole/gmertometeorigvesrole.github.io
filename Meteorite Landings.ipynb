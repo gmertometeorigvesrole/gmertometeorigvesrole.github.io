{
 "cells": [
  {
   "cell_type": "code",
   "execution_count": 1,
   "metadata": {},
   "outputs": [],
   "source": [
    "from keplergl import KeplerGl"
   ]
  },
  {
   "cell_type": "code",
   "execution_count": 2,
   "metadata": {},
   "outputs": [
    {
     "name": "stdout",
     "output_type": "stream",
     "text": [
      "User Guide: https://github.com/keplergl/kepler.gl/blob/master/docs/keplergl-jupyter/user-guide.md\n"
     ]
    }
   ],
   "source": [
    "map_5 = KeplerGl()"
   ]
  },
  {
   "cell_type": "code",
   "execution_count": 3,
   "metadata": {},
   "outputs": [],
   "source": [
    "with open('Meteorite-Landings.geojson') as f:  \n",
    "    geojson = f.read()"
   ]
  },
  {
   "cell_type": "code",
   "execution_count": 4,
   "metadata": {},
   "outputs": [],
   "source": [
    "map_5.add_data(data=geojson, name='Meteorite-Landings.geojson')"
   ]
  },
  {
   "cell_type": "code",
   "execution_count": 5,
   "metadata": {
    "scrolled": false
   },
   "outputs": [
    {
     "data": {
      "application/vnd.jupyter.widget-view+json": {
       "model_id": "0330d62d23c64eba87fb64889d57892c",
       "version_major": 2,
       "version_minor": 0
      },
      "text/plain": [
       "KeplerGl(data={'Meteorite-Landings.geojson': '{\\n\"type\": \"FeatureCollection\",\\n\"crs\": { \"type\": \"name\", \"prope…"
      ]
     },
     "metadata": {},
     "output_type": "display_data"
    }
   ],
   "source": [
    "map_5"
   ]
  },
  {
   "cell_type": "code",
   "execution_count": 8,
   "metadata": {},
   "outputs": [
    {
     "name": "stdout",
     "output_type": "stream",
     "text": [
      "Map saved to meteorite_landing.html!\n"
     ]
    }
   ],
   "source": [
    "map_5.save_to_html(file_name='meteorite_landing.html', read_only=True)"
   ]
  },
  {
   "cell_type": "code",
   "execution_count": 9,
   "metadata": {},
   "outputs": [
    {
     "data": {
      "text/plain": [
       "{'version': 'v1',\n",
       " 'config': {'visState': {'filters': [{'dataId': 'Meteorite-Landings.geojson',\n",
       "     'id': '12097k0hp',\n",
       "     'name': 'year',\n",
       "     'type': 'timeRange',\n",
       "     'value': [-12212510400000, 1357041600000],\n",
       "     'enlarged': True,\n",
       "     'plotType': 'histogram',\n",
       "     'yAxis': None}],\n",
       "   'layers': [{'id': 'tb4fa6i',\n",
       "     'type': 'point',\n",
       "     'config': {'dataId': 'Meteorite-Landings.geojson',\n",
       "      'label': 'Meteorite-Landings',\n",
       "      'color': [18, 147, 154],\n",
       "      'columns': {'lat': 'reclat', 'lng': 'reclong', 'altitude': None},\n",
       "      'isVisible': True,\n",
       "      'visConfig': {'radius': 4.7,\n",
       "       'fixedRadius': False,\n",
       "       'opacity': 0.27,\n",
       "       'outline': True,\n",
       "       'thickness': 0.5,\n",
       "       'strokeColor': None,\n",
       "       'colorRange': {'name': 'Custom Palette',\n",
       "        'type': 'custom',\n",
       "        'category': 'Custom',\n",
       "        'colors': ['#C70039', '#FFC300']},\n",
       "       'strokeColorRange': {'name': 'Custom Palette',\n",
       "        'type': 'custom',\n",
       "        'category': 'Custom',\n",
       "        'colors': ['#C70039', '#FFC300']},\n",
       "       'radiusRange': [1, 45.1],\n",
       "       'filled': True},\n",
       "      'textLabel': [{'field': None,\n",
       "        'color': [255, 255, 255],\n",
       "        'size': 18,\n",
       "        'offset': [0, 0],\n",
       "        'anchor': 'start',\n",
       "        'alignment': 'center'}]},\n",
       "     'visualChannels': {'colorField': {'name': 'fall', 'type': 'string'},\n",
       "      'colorScale': 'ordinal',\n",
       "      'strokeColorField': {'name': 'fall', 'type': 'string'},\n",
       "      'strokeColorScale': 'ordinal',\n",
       "      'sizeField': {'name': 'mass (g)', 'type': 'real'},\n",
       "      'sizeScale': 'sqrt'}}],\n",
       "   'interactionConfig': {'tooltip': {'fieldsToShow': {'Meteorite-Landings.geojson': ['name',\n",
       "       'recclass',\n",
       "       'mass (g)',\n",
       "       'year']},\n",
       "     'enabled': True},\n",
       "    'brush': {'size': 0.5, 'enabled': False}},\n",
       "   'layerBlending': 'additive',\n",
       "   'splitMaps': [],\n",
       "   'animationConfig': {'currentTime': None, 'speed': 1}},\n",
       "  'mapState': {'bearing': 0,\n",
       "   'dragRotate': False,\n",
       "   'latitude': -7.186020318716195,\n",
       "   'longitude': 9.586686157260505,\n",
       "   'pitch': 0,\n",
       "   'zoom': 0,\n",
       "   'isSplit': False},\n",
       "  'mapStyle': {'styleType': 'dark',\n",
       "   'topLayerGroups': {},\n",
       "   'visibleLayerGroups': {'label': False,\n",
       "    'road': False,\n",
       "    'border': False,\n",
       "    'building': False,\n",
       "    'water': True,\n",
       "    'land': True,\n",
       "    '3d building': False},\n",
       "   'threeDBuildingColor': [9.665468314072013,\n",
       "    17.18305478057247,\n",
       "    31.1442867897876],\n",
       "   'mapStyles': {}}}}"
      ]
     },
     "execution_count": 9,
     "metadata": {},
     "output_type": "execute_result"
    }
   ],
   "source": [
    "map_5.config"
   ]
  },
  {
   "cell_type": "code",
   "execution_count": null,
   "metadata": {},
   "outputs": [],
   "source": []
  }
 ],
 "metadata": {
  "kernelspec": {
   "display_name": "Python 3",
   "language": "python",
   "name": "python3"
  },
  "language_info": {
   "codemirror_mode": {
    "name": "ipython",
    "version": 3
   },
   "file_extension": ".py",
   "mimetype": "text/x-python",
   "name": "python",
   "nbconvert_exporter": "python",
   "pygments_lexer": "ipython3",
   "version": "3.7.4"
  }
 },
 "nbformat": 4,
 "nbformat_minor": 2
}
